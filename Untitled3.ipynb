{
 "cells": [
  {
   "cell_type": "code",
   "execution_count": 3,
   "id": "c741fbd9",
   "metadata": {},
   "outputs": [
    {
     "name": "stdout",
     "output_type": "stream",
     "text": [
      "Enter the Prime Num1: 43\n",
      "Enter the Prime Num2: 16\n",
      "Choose the Message: 23\n",
      "The Cipher Text:  455\n",
      "The Decrypted Msg:  23\n"
     ]
    }
   ],
   "source": [
    "import math\n",
    "\n",
    "def RSA(p,q,m):\n",
    "    n=p*q\n",
    "    phi=(p-1)*(q-1)\n",
    "    \n",
    "    for i in range(2,phi):\n",
    "        if math.gcd(i,phi)==1:\n",
    "            e=i\n",
    "            break\n",
    "    d=pow(e,-1,phi)\n",
    "    ct=pow(m,e,n)\n",
    "    print(\"The Cipher Text: \",ct)\n",
    "    pt=pow(ct,d,n)\n",
    "    print(\"The Decrypted Msg: \",pt)\n",
    "    \n",
    "p=int(input(\"Enter the Prime Num1: \"))\n",
    "q=int(input(\"Enter the Prime Num2: \"))\n",
    "m=int(input(\"Choose the Message: \"))\n",
    "RSA(p,q,m)"
   ]
  },
  {
   "cell_type": "code",
   "execution_count": 9,
   "id": "3cf05b3b",
   "metadata": {},
   "outputs": [
    {
     "name": "stdout",
     "output_type": "stream",
     "text": [
      "Enter the Character Name to be Encrypted: s\n",
      "Enter the Key Value: 3\n",
      "The Encrypted Text:  V\n"
     ]
    }
   ],
   "source": [
    "def CaesaeEnc(plain, key):\n",
    "    ct=\"\"\n",
    "    for i in range(len(plain)):\n",
    "        c=plain[i]\n",
    "        if c==\"\":\n",
    "            ct+=\"\"\n",
    "        elif(c.isupper()):\n",
    "            ct+=chr((ord(c)+key-65)%26+65)\n",
    "        else:\n",
    "            ct+=chr((ord(c)+key-97)%26+65)\n",
    "    return ct\n",
    "pt=input(\"Enter the Character Name to be Encrypted: \")\n",
    "k=int(input(\"Enter the Key Value: \"))\n",
    "enc=CaesaeEnc(pt,k)\n",
    "print(\"The Encrypted Text: \",enc)"
   ]
  },
  {
   "cell_type": "code",
   "execution_count": 10,
   "id": "c8010715",
   "metadata": {},
   "outputs": [
    {
     "name": "stdout",
     "output_type": "stream",
     "text": [
      "Enter the Character Name to be Encrypted: v\n",
      "Enter the Key Value: 3\n",
      "The Encrypted Text:  s\n"
     ]
    }
   ],
   "source": [
    "def CaesarDecrypt(cipher, key):\n",
    "    pt=\"\"\n",
    "    for i in range(len(cipher)):\n",
    "        c=cipher[i]\n",
    "        if c==\"\":\n",
    "            pt+=\"\"\n",
    "        elif(c.isupper()):\n",
    "            pt+=chr((ord(c)-key-65)%26+65)\n",
    "        else:\n",
    "            pt+=chr((ord(c)-key-97)%26+97)\n",
    "    return pt\n",
    "ct=input(\"Enter the Character Name to be Encrypted: \")\n",
    "k=int(input(\"Enter the Key Value: \"))\n",
    "dec=CaesarDecrypt(ct,k)\n",
    "print(\"The Encrypted Text: \",dec)"
   ]
  },
  {
   "cell_type": "code",
   "execution_count": 11,
   "id": "a8b57f86",
   "metadata": {},
   "outputs": [
    {
     "name": "stdout",
     "output_type": "stream",
     "text": [
      "The Value of P: 23\n",
      "The Value of G: 7\n",
      "The Private Key A for Alice is: 4\n",
      "The Private Key B for Bob is: 3\n",
      "The Shared Secret Key A for Alice is: 16\n",
      "The Shared Secret Key B for Bob is: 16\n"
     ]
    }
   ],
   "source": [
    "p=23\n",
    "g=7\n",
    "print(\"The Value of P: %d\"%(p))\n",
    "print(\"The Value of G: %d\"%(g))\n",
    "a=4\n",
    "print(\"The Private Key A for Alice is: %d\"%(a))\n",
    "x=int(pow(g,a,p))\n",
    "b=3\n",
    "print(\"The Private Key B for Bob is: %d\"%(b))\n",
    "y=int(pow(g,b,p))\n",
    "Ka=int(pow(y,a,p))\n",
    "Kb=int(pow(x,b,p))\n",
    "print(\"The Shared Secret Key A for Alice is: %d\"%(Ka))\n",
    "print(\"The Shared Secret Key B for Bob is: %d\"%(Kb))"
   ]
  },
  {
   "cell_type": "code",
   "execution_count": 13,
   "id": "30474c5e",
   "metadata": {},
   "outputs": [
    {
     "name": "stdout",
     "output_type": "stream",
     "text": [
      "The Value of P: 23\n",
      "The Value of G: 7\n",
      "The Private Key A for Alice is: 4\n",
      "The Private Key B for Bob is: 3\n",
      "The Shared Secret Key A for Alice is: 16\n",
      "The Shared Secret Key B for Bob is: 16\n",
      "The Shared Secret Keys match: 16\n"
     ]
    }
   ],
   "source": [
    "p = 23\n",
    "g = 7\n",
    "print(\"The Value of P: %d\" % (p))\n",
    "print(\"The Value of G: %d\" % (g))\n",
    "a = 4  \n",
    "print(\"The Private Key A for Alice is: %d\" % (a))\n",
    "x = int(pow(g, a, p))  \n",
    "b = 3 \n",
    "print(\"The Private Key B for Bob is: %d\" % (b))\n",
    "y = int(pow(g, b, p))  \n",
    "Ka = int(pow(y, a, p))  \n",
    "Kb = int(pow(x, b, p)) \n",
    "print(\"The Shared Secret Key A for Alice is: %d\" % (Ka))\n",
    "print(\"The Shared Secret Key B for Bob is: %d\" % (Kb))\n",
    "if Ka == Kb:\n",
    "    print(\"The Shared Secret Keys match: %d\" % (Ka))\n",
    "else:\n",
    "    print(\"The Shared Secret Keys do not match.\")"
   ]
  },
  {
   "cell_type": "code",
   "execution_count": 14,
   "id": "3bd78f4e",
   "metadata": {},
   "outputs": [
    {
     "name": "stdout",
     "output_type": "stream",
     "text": [
      "The Value of P: 23\n",
      "The Value of G: 7\n",
      "The Private Key A for Alice is: 4\n",
      "The Private Key B for Bob is: 3\n",
      "The Shared Secret Key A for Alice is: 16\n",
      "The Shared Secret Key B for Bob is: 16\n",
      "The Shared Secret Keys match: 16\n"
     ]
    }
   ],
   "source": [
    "p = 23\n",
    "g = 7\n",
    "print(\"The Value of P: %d\" % (p))\n",
    "print(\"The Value of G: %d\" % (g))\n",
    "\n",
    "a = 4  # Private Key of Alice\n",
    "print(\"The Private Key A for Alice is: %d\" % (a))\n",
    "x = int(pow(g, a, p))  # Public Key of Alice: x = g^a % p\n",
    "\n",
    "b = 3  # Private Key of Bob\n",
    "print(\"The Private Key B for Bob is: %d\" % (b))\n",
    "y = int(pow(g, b, p))  # Public Key of Bob: y = g^b % p\n",
    "\n",
    "Ka = int(pow(y, a, p))  # Shared Secret Key for Alice: Ka = y^a % p\n",
    "Kb = int(pow(x, b, p))  # Shared Secret Key for Bob: Kb = x^b % p\n",
    "\n",
    "print(\"The Shared Secret Key A for Alice is: %d\" % (Ka))\n",
    "print(\"The Shared Secret Key B for Bob is: %d\" % (Kb))\n",
    "\n",
    "# Optional: Verify if the keys match\n",
    "if Ka == Kb:\n",
    "    print(\"The Shared Secret Keys match: %d\" % (Ka))\n",
    "else:\n",
    "    print(\"The Shared Secret Keys do not match.\")\n"
   ]
  }
 ],
 "metadata": {
  "kernelspec": {
   "display_name": "Python 3 (ipykernel)",
   "language": "python",
   "name": "python3"
  },
  "language_info": {
   "codemirror_mode": {
    "name": "ipython",
    "version": 3
   },
   "file_extension": ".py",
   "mimetype": "text/x-python",
   "name": "python",
   "nbconvert_exporter": "python",
   "pygments_lexer": "ipython3",
   "version": "3.11.5"
  }
 },
 "nbformat": 4,
 "nbformat_minor": 5
}
