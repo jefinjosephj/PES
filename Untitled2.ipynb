{
 "cells": [
  {
   "cell_type": "code",
   "execution_count": 6,
   "id": "6deb8638",
   "metadata": {},
   "outputs": [
    {
     "name": "stdout",
     "output_type": "stream",
     "text": [
      "Enter the Character or Letter to be Encrypted: security\n",
      "Enter the Key Value: 3\n",
      "The Encrypted Text of Caesar Cipher:  VHFXULWB\n"
     ]
    }
   ],
   "source": [
    "def CaesarEncrypt(plain, key):\n",
    "    ct=\"\"\n",
    "    for i in range(len(plain)):\n",
    "        c=plain[i]\n",
    "        if c==\"\":\n",
    "            ct+=\"\"\n",
    "        elif(c.isupper()):\n",
    "            ct+=chr((ord(c)+key-65)%26+65)\n",
    "        else:\n",
    "            ct+=chr((ord(c)+key-97)%26+65)\n",
    "    return ct\n",
    "pt=input(\"Enter the Character or Letter to be Encrypted: \")\n",
    "k=int(input(\"Enter the Key Value: \"))\n",
    "enc=CaesarEncrypt(pt, k)\n",
    "print(\"The Encrypted Text of Caesar Cipher: \",enc)"
   ]
  },
  {
   "cell_type": "code",
   "execution_count": 8,
   "id": "fc319a05",
   "metadata": {},
   "outputs": [
    {
     "name": "stdout",
     "output_type": "stream",
     "text": [
      "Enter the Character or Letter to be Encrypted: VHFXULWB\n",
      "Enter the Key Value: 3\n",
      "The Encrypted Text of Caesar Cipher:  SECURITY\n"
     ]
    }
   ],
   "source": [
    "def CaesarDec(cipher, key):\n",
    "    pt=\"\"\n",
    "    for i in range(len(cipher)):\n",
    "        c=cipher[i]\n",
    "        if c==\"\":\n",
    "            pt+=\"\"\n",
    "        elif(c.isupper()):\n",
    "            pt+=chr((ord(c)-key-65)%26+65)\n",
    "        else:\n",
    "            pt+=chr((ord(c)-key-97)%26+97)\n",
    "    return pt\n",
    "ct=input(\"Enter the Character or Letter to be Encrypted: \")\n",
    "k=int(input(\"Enter the Key Value: \"))\n",
    "dec=CaesarDec(ct, k)\n",
    "print(\"The Encrypted Text of Caesar Cipher: \",dec)"
   ]
  },
  {
   "cell_type": "code",
   "execution_count": 11,
   "id": "93fc2a6a",
   "metadata": {},
   "outputs": [
    {
     "name": "stdout",
     "output_type": "stream",
     "text": [
      "The Value of P: 23\n",
      "The Value of G: 7\n",
      "The Private Key A for Alice is:4\n",
      "The Private Key B for Bob is:3\n",
      "Shared Secret Key for the Alice is:16\n",
      "Shared Secret Key for the Bob is:16\n"
     ]
    }
   ],
   "source": [
    "p=23\n",
    "g=7\n",
    "print(\"The Value of P: %d\"%(p))\n",
    "print(\"The Value of G: %d\"%(g))\n",
    "a=4\n",
    "print(\"The Private Key A for Alice is:%d\"%(a))\n",
    "x=pow(g,a,p)\n",
    "b=3\n",
    "print(\"The Private Key B for Bob is:%d\"%(b))\n",
    "y=pow(g,b,p)\n",
    "Ka=int(pow(y,a,p))\n",
    "Kb=int(pow(x,b,p))\n",
    "print(\"Shared Secret Key for the Alice is:%d\"%(Ka))\n",
    "print(\"Shared Secret Key for the Bob is:%d\"%(Kb))"
   ]
  },
  {
   "cell_type": "code",
   "execution_count": 13,
   "id": "2a9d5e58",
   "metadata": {},
   "outputs": [
    {
     "name": "stdout",
     "output_type": "stream",
     "text": [
      "The Value of P: 23\n",
      "The Value of G: 7\n",
      "The Private Key A for Alice is: 4\n",
      "The Private Key B for Bob is: 3\n",
      "The Shared Secret Key of Alice is: 16\n",
      "The Shared Secret Key of Bob is: 16\n"
     ]
    }
   ],
   "source": [
    "p=23\n",
    "g=7\n",
    "print(\"The Value of P: %d\"%(p))\n",
    "print(\"The Value of G: %d\"%(g))\n",
    "a=4\n",
    "print(\"The Private Key A for Alice is: %d\"%(a))\n",
    "x=int(pow(g,a,p))\n",
    "b=3\n",
    "print(\"The Private Key B for Bob is: %d\"%(b))\n",
    "y=int(pow(g,b,p))\n",
    "Ka=int(pow(y,a,p))\n",
    "Kb=int(pow(x,b,p))\n",
    "print(\"The Shared Secret Key of Alice is: %d\"%(Ka))\n",
    "print(\"The Shared Secret Key of Bob is: %d\"%(Kb))"
   ]
  }
 ],
 "metadata": {
  "kernelspec": {
   "display_name": "Python 3 (ipykernel)",
   "language": "python",
   "name": "python3"
  },
  "language_info": {
   "codemirror_mode": {
    "name": "ipython",
    "version": 3
   },
   "file_extension": ".py",
   "mimetype": "text/x-python",
   "name": "python",
   "nbconvert_exporter": "python",
   "pygments_lexer": "ipython3",
   "version": "3.11.5"
  }
 },
 "nbformat": 4,
 "nbformat_minor": 5
}
